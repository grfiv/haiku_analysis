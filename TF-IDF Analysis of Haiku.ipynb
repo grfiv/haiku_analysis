{
 "cells": [
  {
   "cell_type": "markdown",
   "metadata": {},
   "source": [
    "# TF-IDF Analysis of Haiku  \n",
    "\n",
    "Make a single list of TF-IDF frequent words"
   ]
  },
  {
   "cell_type": "code",
   "execution_count": 1,
   "metadata": {
    "collapsed": true
   },
   "outputs": [],
   "source": [
    "from __future__ import division\n",
    "from IPython.display import display, HTML\n",
    "import pandas as pd\n",
    "import numpy as np\n",
    "import scipy\n",
    "import matplotlib.pyplot as plt"
   ]
  },
  {
   "cell_type": "code",
   "execution_count": 2,
   "metadata": {
    "collapsed": false
   },
   "outputs": [],
   "source": [
    "%matplotlib inline\n",
    "#%qtconsole"
   ]
  },
  {
   "cell_type": "markdown",
   "metadata": {},
   "source": [
    "# Create the corpus"
   ]
  },
  {
   "cell_type": "code",
   "execution_count": 3,
   "metadata": {
    "collapsed": false
   },
   "outputs": [
    {
     "name": "stdout",
     "output_type": "stream",
     "text": [
      "477 documents read\n"
     ]
    }
   ],
   "source": [
    "corpus_dir                 = 'corpus_haiku'            # input directory\n",
    "corpus_statistics_filename = 'haiku_multi-grams.txt'   # output file name\n",
    "\n",
    "# output-file header\n",
    "text_msg = \"This file contains TF-IDF-frequent 3-6-gram words in Dr. Fisher's haiku\\n\\n\""
   ]
  },
  {
   "cell_type": "code",
   "execution_count": null,
   "metadata": {
    "collapsed": true
   },
   "outputs": [],
   "source": [
    "f = open(corpus_statistics_filename,'w')\n",
    "f.write(text_msg)\n",
    "f.close()\n",
    "\n",
    "corpus = []\n",
    "titles = []\n",
    "import os\n",
    "for num_docs,item in enumerate(os.listdir(corpus_dir)):\n",
    "    if item.endswith(\".txt\"):\n",
    "        file_name = item\n",
    "        titles.append(file_name)\n",
    "        f = open(corpus_dir + '/' + file_name,'r')\n",
    "        data = f.read()\n",
    "        corpus.append(data)\n",
    "        \n",
    "print(\"{:,} documents read\".format(num_docs+1))"
   ]
  },
  {
   "cell_type": "markdown",
   "metadata": {},
   "source": [
    "# Extract the TF-IDF-frequent n-grams"
   ]
  },
  {
   "cell_type": "code",
   "execution_count": 4,
   "metadata": {
    "collapsed": true
   },
   "outputs": [],
   "source": [
    "from sklearn.feature_extraction.text import TfidfVectorizer\n",
    "\n",
    "set_of_words = set()\n",
    "\n",
    "for max_g in [3,4,5,6]:\n",
    "    for max_df in np.arange(0.2,1.0,0.1):\n",
    "\n",
    "        tf = TfidfVectorizer(analyzer=u'word', \n",
    "                             stop_words='english', \n",
    "                             ngram_range=(1, max_g),    # n-grams\n",
    "                             max_df=max_df, \n",
    "                             min_df=1, \n",
    "                             vocabulary=None, \n",
    "                             norm='l2', \n",
    "                             use_idf=True, \n",
    "                             smooth_idf=True, \n",
    "                             sublinear_tf=False)\n",
    "        tfidf_matrix =  tf.fit_transform(corpus)\n",
    "        feature_names = tf.get_feature_names() \n",
    "\n",
    "        dense = tfidf_matrix.todense()\n",
    "\n",
    "        for title_idx,title in enumerate(titles):\n",
    "\n",
    "            doc_10best_features = [i[0] for i in sorted(enumerate(dense.tolist()[title_idx]), \n",
    "                                                        key=lambda x:x[1], \n",
    "                                                        reverse=True)][:10]\n",
    "            for idx in doc_10best_features:\n",
    "                set_of_words.add(feature_names[idx])\n",
    "   "
   ]
  },
  {
   "cell_type": "markdown",
   "metadata": {},
   "source": [
    "# Write out the set of n-grams to the dataset"
   ]
  },
  {
   "cell_type": "code",
   "execution_count": 5,
   "metadata": {
    "collapsed": true
   },
   "outputs": [],
   "source": [
    "f = open(corpus_statistics_filename,'a')\n",
    "for i,word in enumerate(sorted(list(set_of_words))):\n",
    "    f.write(word)\n",
    "    f.write(\"\\n\")\n",
    "f.close()"
   ]
  }
 ],
 "metadata": {
  "kernelspec": {
   "display_name": "Python 2",
   "language": "python",
   "name": "python2"
  },
  "language_info": {
   "codemirror_mode": {
    "name": "ipython",
    "version": 2
   },
   "file_extension": ".py",
   "mimetype": "text/x-python",
   "name": "python",
   "nbconvert_exporter": "python",
   "pygments_lexer": "ipython2",
   "version": "2.7.9"
  }
 },
 "nbformat": 4,
 "nbformat_minor": 0
}
