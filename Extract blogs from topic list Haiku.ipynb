{
 "cells": [
  {
   "cell_type": "markdown",
   "metadata": {},
   "source": [
    "# Extract blogs from topic list: Haiku"
   ]
  },
  {
   "cell_type": "code",
   "execution_count": 1,
   "metadata": {
    "collapsed": true
   },
   "outputs": [],
   "source": [
    "from __future__ import division\n",
    "from IPython.display import display, HTML\n",
    "import pandas as pd\n",
    "import numpy as np\n",
    "import scipy\n",
    "import matplotlib.pyplot as plt"
   ]
  },
  {
   "cell_type": "code",
   "execution_count": 2,
   "metadata": {
    "collapsed": true
   },
   "outputs": [],
   "source": [
    "%matplotlib inline\n",
    "#%qtconsole"
   ]
  },
  {
   "cell_type": "code",
   "execution_count": 3,
   "metadata": {
    "collapsed": true
   },
   "outputs": [],
   "source": [
    "import sqlite3\n",
    "\n",
    "con = sqlite3.connect('../philad.db')\n",
    "cur = con.cursor()"
   ]
  },
  {
   "cell_type": "markdown",
   "metadata": {},
   "source": [
    "# Get all the blog_ids for a list of topics"
   ]
  },
  {
   "cell_type": "code",
   "execution_count": 4,
   "metadata": {
    "collapsed": false
   },
   "outputs": [
    {
     "name": "stdout",
     "output_type": "stream",
     "text": [
      "[2800, 2801, 2802, 2803, 2804, 2805, 2806, 2807, 2808, 2809, 2810, 2817, 2818, 2819, 2820, 2821, 2822, 2823, 2824, 2825, 2826, 2827, 2828, 2829, 2830, 2831, 2832, 2833, 2834, 2835, 2836, 2837, 2838, 2839, 2840, 2841, 2842, 2843, 2844, 2845, 2846, 2847, 2848, 2849, 2850, 2851, 2852, 2853, 2854, 2855, 2856, 2857, 2859, 2860, 2861, 2862, 2863, 2864, 2865, 2866, 2867, 2868, 2869, 2870, 2871, 2872, 2873, 2874, 2875, 2876, 2877, 2878, 2879, 2880, 2881, 2883, 2884, 2885, 2886, 2887, 2888, 2889, 2890, 2891, 2892, 2893, 2894, 2895, 2896, 2897, 2898, 2900, 2901, 2902, 2903, 2904, 2905, 2906, 2907, 2908, 2909, 2910, 2911, 2912, 2913, 2914, 2915, 2916, 2917, 2918, 2919, 2920, 2921, 2922, 2923, 2924, 2925, 2926, 2927, 2928, 2931, 2932, 2933, 2934, 2935, 2936, 2937, 2938, 2939, 2941, 2942, 2943, 2946, 2947, 2948, 2949, 2950, 2951, 2952, 2953, 2954, 2955, 2956, 2957, 2958, 2959, 2960, 2961, 2962, 2963, 2964, 2965, 2966, 2967, 2968, 2969, 2970, 2971, 2972, 2973, 2974, 2975, 2976, 2977, 2978, 2979, 2980, 2981, 2982, 2983, 2984, 2985, 2986, 2987, 2988, 2989, 2990, 2991, 2992, 2993, 2994, 2995, 2996, 2997, 2998, 2999, 3000, 3001, 3002, 3003, 3004, 3005, 3006, 3007, 3008, 3009, 3010, 3011, 3012, 3013, 3014, 3015, 3016, 3017, 3018, 3019, 3020, 3021, 3022, 3023, 3024, 3025, 3026, 3027, 3028, 3029, 3030, 3031, 3032, 3033, 3034, 3035, 3036, 3037, 3038, 3039, 3040, 3041, 3042, 3043, 3044, 3045, 3046, 3047, 3048, 3049, 3050, 3051, 3052, 3053, 3054, 3055, 3056, 3057, 3058, 3059, 3060, 3061, 3062, 3063, 3064, 3065, 3066, 3067, 3068, 3069, 3070, 3071, 3072, 3073, 3074, 3076, 3077, 3078, 3079, 3080, 3081, 3082, 3083, 3084, 3086, 3087, 3088, 3089, 3090, 3091, 3092, 3093, 3094, 3095, 3096, 3097, 3098, 3099, 3100, 3101, 3102, 3103, 3104, 3117, 3118, 3119, 3120, 3123, 3124, 3125, 3126, 3127, 3128, 3129, 3131, 3132, 3133, 3134, 3135, 3136, 3137, 3138, 3139, 3141, 3142, 3143, 3147, 3148, 3149, 3150, 3151, 3152, 3153, 3154, 3155, 3156, 3157, 3158, 3159, 3160, 3161, 3162, 3163, 3165, 3166, 3167, 3168, 3169, 3170, 3171, 3172, 3173, 3174, 3175, 3176, 3177, 3178, 3179, 3180, 3181, 3182, 3183, 3184, 3191, 3192, 3193, 3194, 3195, 3196, 3197, 3198, 3199, 3200, 3201, 3202, 3203, 3204, 3205, 3206, 3207, 3208, 3209, 3210, 3211, 3223, 3224, 3226, 3227, 3228, 3231, 3232, 3233, 3235, 3236, 3237, 3238, 3239, 3240, 3241, 3242, 3245, 3246, 3247, 3249, 3260, 3261, 3262, 3263, 3265, 3266, 3269, 3271, 3273, 3274, 3279, 3280, 3281, 3282, 3283, 3285, 3286, 3287, 3288, 3289, 3290, 3291, 3292, 3293, 3294, 3296, 3298, 3299, 3300, 3301, 3302, 3303, 3305, 3306, 3307, 3308, 3309, 3310, 3311, 3312, 3326, 3327, 3328, 3329, 3330, 3331, 3332, 3333, 3334, 3335, 3336, 3337, 3338, 3340, 3341, 3342, 3343, 3344, 3345, 3346, 3348, 3349, 3350, 3351, 3352, 3353, 3354, 3355, 3356, 3357, 3358, 3359, 3360, 3361, 3362, 3363, 3364, 3365, 3366, 3367, 3379, 3380, 3381, 3382, 3383, 3384, 3385, 3386]\n",
      "478\n"
     ]
    }
   ],
   "source": [
    "topic_ids = [302,304,306,305,301,303,308,296,297,298,300,307,311,315,324,328]\n",
    "\n",
    "blog_id_list = set()\n",
    "\n",
    "for topic_id in topic_ids:\n",
    "\n",
    "    query = \\\n",
    "    \"\"\"\n",
    "    SELECT blog_key\n",
    "    FROM topics_blogs\n",
    "    WHERE topic_key={}\n",
    "    \"\"\".format(topic_id)\n",
    "\n",
    "    cur.execute(query)\n",
    "\n",
    "    data = cur.fetchall()\n",
    "\n",
    "    for d in data:\n",
    "        blog_id_list.add(d[0])\n",
    "\n",
    "blog_id_list = list(blog_id_list)\n",
    "print(blog_id_list)\n",
    "print(len(blog_id_list))"
   ]
  },
  {
   "cell_type": "markdown",
   "metadata": {},
   "source": [
    "# Extract and clean each blog"
   ]
  },
  {
   "cell_type": "code",
   "execution_count": 5,
   "metadata": {
    "collapsed": false,
    "scrolled": false
   },
   "outputs": [
    {
     "name": "stdout",
     "output_type": "stream",
     "text": [
      "Total haiku read 478; total written 477\n"
     ]
    }
   ],
   "source": [
    "from bs4 import BeautifulSoup\n",
    "import re\n",
    "\n",
    "corpus_statistics_filename = 'haiku_statistics.txt'\n",
    "f = open(corpus_statistics_filename,'w')\n",
    "f.write(\"This file contains statistics of the corpus created for Dr. Fisher's haiku\\n\\n\")\n",
    "f.close()\n",
    "\n",
    "files_written = 0\n",
    "\n",
    "for blog_id in blog_id_list:\n",
    "\n",
    "    query = \\\n",
    "    \"\"\"\n",
    "    SELECT title,blog_contents\n",
    "    FROM individual_reflections\n",
    "    WHERE table_key={}\n",
    "    \"\"\".format(blog_id)\n",
    "\n",
    "    cur.execute(query)\n",
    "\n",
    "    rows = cur.fetchall()\n",
    "    for row in rows:\n",
    "        title, data = row\n",
    "\n",
    "        file_name = BeautifulSoup(title, \"lxml\").get_text().replace('\\\\r','').replace('\\\\n','').replace('/','_')\n",
    "        file_name = re.sub('\\s+','_',file_name.strip())\n",
    "        file_name = \"%s_%d.txt\"%(file_name,blog_id)\n",
    "\n",
    "        blog = BeautifulSoup(data, \"lxml\").get_text() \\\n",
    "                            .replace('\\\\r','')        \\\n",
    "                            .replace('\\\\n','')        \\\n",
    "                            .replace('\\\\t', ' ')      \n",
    "                            \n",
    "        blog = re.sub('\\s+',' ', blog)\n",
    "        blog = re.sub('\\(\\d+\\)', '', blog).lower()\n",
    "\n",
    "        if len(blog) < 5:\n",
    "            f = open(corpus_statistics_filename,'a')\n",
    "            f.write(\"{} \\t\\t Length {:,} \\t SKIPPED\\n\".format(file_name.encode('utf-8'),len(blog)))\n",
    "            f.close()\n",
    "        else:\n",
    "            f = open('corpus_haiku/' + file_name, 'w')\n",
    "            f.write(blog.encode('utf-8'))\n",
    "            f.close()\n",
    "            files_written += 1\n",
    "            f = open(corpus_statistics_filename,'a')\n",
    "            f.write(\"{} \\t\\t Length {:,}\\n\".format(file_name.encode('utf-8'),len(blog)))\n",
    "            f.close()\n",
    "\n",
    "print(\"Total haiku read {:,}; total written {:,}\".format(len(blog_id_list), files_written))\n",
    "f = open(corpus_statistics_filename,'a')\n",
    "f.write(\"\\nTotal haiku read {:,}; total written {:,}\".format(len(blog_id_list), files_written))\n",
    "f.close()"
   ]
  },
  {
   "cell_type": "code",
   "execution_count": null,
   "metadata": {
    "collapsed": true
   },
   "outputs": [],
   "source": []
  }
 ],
 "metadata": {
  "kernelspec": {
   "display_name": "Python 2",
   "language": "python",
   "name": "python2"
  },
  "language_info": {
   "codemirror_mode": {
    "name": "ipython",
    "version": 2
   },
   "file_extension": ".py",
   "mimetype": "text/x-python",
   "name": "python",
   "nbconvert_exporter": "python",
   "pygments_lexer": "ipython2",
   "version": "2.7.9"
  }
 },
 "nbformat": 4,
 "nbformat_minor": 0
}
